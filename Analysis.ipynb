{
  "cells": [
    {
      "cell_type": "code",
      "execution_count": null,
      "metadata": {
        "id": "WhAva_-PsRDP"
      },
      "outputs": [],
      "source": [
        "import pandas as pd\n",
        "from sklearn.model_selection import train_test_split\n",
        "from sklearn.tree import DecisionTreeRegressor\n",
        "from sklearn.metrics import mean_squared_error, r2_score\n",
        "\n",
        "# Load your data\n",
        "data = pd.read_csv('/Users/soumyadeepchatterjee/Desktop/WayneState/Winter24/CSC-5800-Intelligent-Systems/Final Project/Drugs datasheet merged (1).csv')"
      ]
    },
    {
      "cell_type": "code",
      "execution_count": null,
      "metadata": {
        "scrolled": true,
        "id": "NnuBVI78sRDQ",
        "outputId": "38f991da-bb2e-4d29-d97c-33a0bb8276e0"
      },
      "outputs": [
        {
          "data": {
            "text/plain": [
              "drug_name                0\n",
              "medical_condition        0\n",
              "side_effects          1152\n",
              "generic_name          1071\n",
              "drug_classes          1110\n",
              "brand_names           2241\n",
              "activity                 0\n",
              "rx_otc                   1\n",
              "pregnancy_category     249\n",
              "csa                      0\n",
              "alcohol               1968\n",
              "related_drugs         2497\n",
              "rating                1842\n",
              "no_of_reviews         1842\n",
              "dtype: int64"
            ]
          },
          "execution_count": 6,
          "metadata": {},
          "output_type": "execute_result"
        }
      ],
      "source": [
        "data.isna().sum()\n"
      ]
    },
    {
      "cell_type": "code",
      "execution_count": null,
      "metadata": {
        "id": "dhihsh4XsRDR",
        "outputId": "bc9f8d94-5046-4ae8-e386-4c144c27912b"
      },
      "outputs": [
        {
          "name": "stdout",
          "output_type": "stream",
          "text": [
            "<class 'pandas.core.frame.DataFrame'>\n",
            "RangeIndex: 3959 entries, 0 to 3958\n",
            "Data columns (total 14 columns):\n",
            " #   Column              Non-Null Count  Dtype  \n",
            "---  ------              --------------  -----  \n",
            " 0   drug_name           3959 non-null   object \n",
            " 1   medical_condition   3959 non-null   object \n",
            " 2   side_effects        3959 non-null   object \n",
            " 3   generic_name        3959 non-null   object \n",
            " 4   drug_classes        3959 non-null   object \n",
            " 5   brand_names         3959 non-null   object \n",
            " 6   activity            3959 non-null   object \n",
            " 7   rx_otc              3958 non-null   object \n",
            " 8   pregnancy_category  3959 non-null   object \n",
            " 9   csa                 3959 non-null   object \n",
            " 10  alcohol             3959 non-null   object \n",
            " 11  related_drugs       3959 non-null   object \n",
            " 12  rating              3959 non-null   float64\n",
            " 13  no_of_reviews       3959 non-null   float64\n",
            "dtypes: float64(2), object(12)\n",
            "memory usage: 433.1+ KB\n"
          ]
        },
        {
          "data": {
            "text/plain": [
              "0    [(hives, difficult breathing, swelling in your...\n",
              "1    [hives ,  difficulty breathing,  swelling of y...\n",
              "2    [skin rash, fever, swollen glands, flu-like sy...\n",
              "3    [problems with your vision or hearing,  muscle...\n",
              "4    [hives ,  difficult breathing,  swelling of yo...\n",
              "Name: side_effects, dtype: object"
            ]
          },
          "execution_count": 7,
          "metadata": {},
          "output_type": "execute_result"
        }
      ],
      "source": [
        "data['side_effects'].fillna('No side effects reported', inplace=True)\n",
        "data['generic_name'].fillna('Unknown', inplace=True)\n",
        "data['drug_classes'].fillna('Unknown', inplace=True)\n",
        "data['brand_names'].fillna('No brand names listed', inplace=True)\n",
        "data['pregnancy_category'].fillna('Not Classified', inplace=True)\n",
        "data['alcohol'].fillna('No information', inplace=True)\n",
        "data['related_drugs'].fillna('No related drugs listed', inplace=True)\n",
        "data['rating'].fillna(0, inplace=True)\n",
        "data['no_of_reviews'].fillna(0, inplace=True)\n",
        "\n",
        "# Show the information of the dataset after filling missing values to confirm the changes\n",
        "data.info()\n",
        "\n",
        "# Remove the percentage sign and convert to float\n",
        "data['activity'] = data['activity'].str.replace('%', '').astype(float)\n",
        "\n",
        "# Confirm the data type change\n",
        "data['activity'].dtype\n",
        "\n",
        "# Convert the side effects to lowercase and then convert them to a list format by splitting at commas\n",
        "data['side_effects'] = data['side_effects'].str.lower().str.split(';')\n",
        "\n",
        "# Display the first few entries to verify the changes\n",
        "data['side_effects'].head()\n",
        "\n"
      ]
    },
    {
      "cell_type": "code",
      "execution_count": null,
      "metadata": {
        "id": "Xey_xbpSsRDR",
        "outputId": "61b9997f-20a5-4426-9201-4f7c33dd4b9a"
      },
      "outputs": [
        {
          "data": {
            "text/plain": [
              "0    [['(hives, difficult breathing, swelling in yo...\n",
              "1    [['hives ', ' difficulty breathing', ' swellin...\n",
              "2    [['skin rash, fever, swollen glands, flu-like ...\n",
              "3    [['problems with your vision or hearing', ' mu...\n",
              "4    [['hives ', ' difficult breathing', ' swelling...\n",
              "Name: side_effects, dtype: object"
            ]
          },
          "execution_count": 8,
          "metadata": {},
          "output_type": "execute_result"
        }
      ],
      "source": [
        "# Ensure all entries in 'side_effects' are strings\n",
        "data['side_effects'] = data['side_effects'].astype(str).str.lower().str.split(';')\n",
        "\n",
        "# Convert the side effects to lowercase and then convert them to a list format by splitting at commas\n",
        "# data['side_effects'] = data['side_effects'].str.lower().str.split(';')\n",
        "\n",
        "# Display the first few entries to verify the changes\n",
        "data['side_effects'].head()"
      ]
    },
    {
      "cell_type": "code",
      "execution_count": null,
      "metadata": {
        "id": "xmkytqMusRDS",
        "outputId": "007cc471-4824-4bba-ae35-3b51d05caccb"
      },
      "outputs": [
        {
          "data": {
            "text/plain": [
              "['no side effects reported']                                                                                                                                                                                                                                                                                                                                                                                                                                                                                                                                                                                                            1152\n",
              "['hives ', ' difficult breathing', ' swelling of your face, lips, tongue, or throat. this medicine may cause serious side effects. stop using this medicine and call your doctor at once if you have: redness or swelling of the treated area', ' increased pain', ' or severe burning or skin irritation such as a rash, itching, pain, or blistering. less serious side effects may be more likely, and you may have none at all.']                                                                                                                                                                                                     10\n",
              "['hives ', ' difficult breathing', ' swelling of your face, lips, tongue, or throat. this medicine may cause serious side effects. stop using this medicine and call your doctor at once if you have: bone pain, muscle weakness', ' confusion, changes in your mental state, seizure (convulsions)', ' or pale skin, feeling light-headed or short of breath, rapid heart rate. less serious side effects may be more likely, and you may have none at all.']                                                                                                                                                                             8\n",
              "['redness, warmth, swelling, itching, stinging, burning, or irritation of treated skin.']                                                                                                                                                                                                                                                                                                                                                                                                                                                                                                                                                  7\n",
              "['hives ', ' difficult breathing', ' swelling of your face, lips, tongue, or throat. less serious side effects may include: stinging', ' rash', ' or skin irritation.']                                                                                                                                                                                                                                                                                                                                                                                                                                                                    5\n",
              "['hives ', ' difficult breathing', ' swelling of your face, lips, tongue, or throat. common side effects may include temporary hair loss (especially in children).']                                                                                                                                                                                                                                                                                                                                                                                                                                                                       5\n",
              "['hives ', ' difficult breathing', ' swelling of your face, lips, tongue, or throat. this medicine may cause serious side effects. stop using this medicine and call your doctor at once if you have: nervousness , dizziness , or sleeplessness ', ' chest pain, fast or uneven heart rate', ' little or no urinating', ' dangerously high blood pressure (severe headache , buzzing in your ears, anxiety , shortness of breath)', ' if your symptoms do not improve after 7 days of treatment, or if you have a fever', ' or if new symptoms occur. less serious side effects may be more likely, and you may have none at all.']       5\n",
              "['hives ', ' difficult breathing', ' swelling of your face, lips, tongue, or throat. less serious side effects may occur, and you may have none at all.']                                                                                                                                                                                                                                                                                                                                                                                                                                                                                  3\n",
              "['hives ', ' difficult breathing', ' swelling of your face, lips, tongue, or throat. wash the skin and get medical attention right away if you have severe burning, pain, swelling, or blistering of the skin where you applied this medicine. this medicine may cause serious side effects. stop using this medicine and call your doctor at once if you have: pale skin, blue-colored lips', ' headache , confusion', ' or rapid heartbeats. common side effects may include a mild burning sensation that can last for several hours or days, especially after your first use of this medicine.']                                       3\n",
              "['hives ', ' difficult breathing', ' swelling of your face, lips, tongue, or throat.']                                                                                                                                                                                                                                                                                                                                                                                                                                                                                                                                                     3\n",
              "Name: count, dtype: int64"
            ]
          },
          "execution_count": 9,
          "metadata": {},
          "output_type": "execute_result"
        }
      ],
      "source": [
        "import re\n",
        "\n",
        "# To analyze the most common side effects, we first need to flatten the list of side effects into a single list\n",
        "from itertools import chain\n",
        "\n",
        "# Flatten the list of side effects\n",
        "all_side_effects = list(chain.from_iterable(data['side_effects'].dropna()))\n",
        "\n",
        "# Remove leading and trailing whitespace\n",
        "all_side_effects = [effect.strip() for effect in all_side_effects]\n",
        "\n",
        "# Convert to a pandas Series and count occurrences of each side effect\n",
        "side_effect_counts = pd.Series(all_side_effects).value_counts()\n",
        "\n",
        "# Show the top 10 most common side effects\n",
        "top_10_side_effects = side_effect_counts.head(10)\n",
        "top_10_side_effects\n",
        "\n",
        "\n",
        "# Correcting normalization rules and reapplying\n",
        "\n",
        "# Updated normalization function\n",
        "def normalize_text_corrected(text):\n",
        "    text = text.lower().strip()\n",
        "    text = re.sub(r'difficulty|difficult', 'difficult', text)\n",
        "    text = re.sub(r'\\(hives\\)|hives|hive', 'hives', text)\n",
        "    text = re.sub(r'wheezing|wheeze', 'wheezing', text)\n",
        "    text = re.sub(r'breathing|breathe', 'breathing', text)\n",
        "    return text\n",
        "\n",
        "# Reapply normalization with corrected rules\n",
        "normalized_effects_corrected = [normalize_text_corrected(effect) for effect in all_side_effects]\n",
        "\n",
        "# Convert to a pandas Series and count occurrences of each normalized side effect\n",
        "normalized_side_effect_counts_corrected = pd.Series(normalized_effects_corrected).value_counts()\n",
        "\n",
        "# Show the top 10 most common normalized side effects\n",
        "normalized_top_10_side_effects_corrected = normalized_side_effect_counts_corrected.head(10)\n",
        "normalized_top_10_side_effects_corrected"
      ]
    },
    {
      "cell_type": "code",
      "execution_count": null,
      "metadata": {
        "id": "N72zq_aNsRDS",
        "outputId": "a52c0e4c-99bc-4b01-f591-4ea61941768a"
      },
      "outputs": [
        {
          "data": {
            "text/plain": [
              "drug_name             0\n",
              "medical_condition     0\n",
              "side_effects          0\n",
              "generic_name          0\n",
              "drug_classes          0\n",
              "brand_names           0\n",
              "activity              0\n",
              "rx_otc                0\n",
              "pregnancy_category    0\n",
              "csa                   0\n",
              "alcohol               0\n",
              "related_drugs         0\n",
              "rating                0\n",
              "no_of_reviews         0\n",
              "dtype: int64"
            ]
          },
          "execution_count": 14,
          "metadata": {},
          "output_type": "execute_result"
        }
      ],
      "source": [
        "data.isna().sum()"
      ]
    },
    {
      "cell_type": "code",
      "execution_count": null,
      "metadata": {
        "id": "pCe5vsISsRDS"
      },
      "outputs": [],
      "source": [
        "missing_rx_otc_row = data[data['rx_otc'].isna()]\n"
      ]
    },
    {
      "cell_type": "code",
      "execution_count": null,
      "metadata": {
        "id": "uFJ767bFsRDS",
        "outputId": "7172c72b-e531-4215-ea72-3a8646ef0d33"
      },
      "outputs": [
        {
          "data": {
            "text/html": [
              "<div>\n",
              "<style scoped>\n",
              "    .dataframe tbody tr th:only-of-type {\n",
              "        vertical-align: middle;\n",
              "    }\n",
              "\n",
              "    .dataframe tbody tr th {\n",
              "        vertical-align: top;\n",
              "    }\n",
              "\n",
              "    .dataframe thead th {\n",
              "        text-align: right;\n",
              "    }\n",
              "</style>\n",
              "<table border=\"1\" class=\"dataframe\">\n",
              "  <thead>\n",
              "    <tr style=\"text-align: right;\">\n",
              "      <th></th>\n",
              "      <th>drug_name</th>\n",
              "      <th>medical_condition</th>\n",
              "      <th>side_effects</th>\n",
              "      <th>generic_name</th>\n",
              "      <th>drug_classes</th>\n",
              "      <th>brand_names</th>\n",
              "      <th>activity</th>\n",
              "      <th>rx_otc</th>\n",
              "      <th>pregnancy_category</th>\n",
              "      <th>csa</th>\n",
              "      <th>alcohol</th>\n",
              "      <th>related_drugs</th>\n",
              "      <th>rating</th>\n",
              "      <th>no_of_reviews</th>\n",
              "    </tr>\n",
              "  </thead>\n",
              "  <tbody>\n",
              "    <tr>\n",
              "      <th>1617</th>\n",
              "      <td>Zegerid with Magnesium Hydroxide</td>\n",
              "      <td>GERD (Heartburn)</td>\n",
              "      <td>[['no side effects reported']]</td>\n",
              "      <td>omeprazole, sodium bicarbonate and magnesium h...</td>\n",
              "      <td>Unknown</td>\n",
              "      <td>No brand names listed</td>\n",
              "      <td>0.0</td>\n",
              "      <td>NaN</td>\n",
              "      <td>C</td>\n",
              "      <td>U</td>\n",
              "      <td>No information</td>\n",
              "      <td>omeprazole: https://www.drugs.com/omeprazole.h...</td>\n",
              "      <td>0.0</td>\n",
              "      <td>0.0</td>\n",
              "    </tr>\n",
              "  </tbody>\n",
              "</table>\n",
              "</div>"
            ],
            "text/plain": [
              "                             drug_name medical_condition  \\\n",
              "1617  Zegerid with Magnesium Hydroxide  GERD (Heartburn)   \n",
              "\n",
              "                        side_effects  \\\n",
              "1617  [['no side effects reported']]   \n",
              "\n",
              "                                           generic_name drug_classes  \\\n",
              "1617  omeprazole, sodium bicarbonate and magnesium h...      Unknown   \n",
              "\n",
              "                brand_names  activity rx_otc pregnancy_category csa  \\\n",
              "1617  No brand names listed       0.0    NaN                  C   U   \n",
              "\n",
              "             alcohol                                      related_drugs  \\\n",
              "1617  No information  omeprazole: https://www.drugs.com/omeprazole.h...   \n",
              "\n",
              "      rating  no_of_reviews  \n",
              "1617     0.0            0.0  "
            ]
          },
          "execution_count": 12,
          "metadata": {},
          "output_type": "execute_result"
        }
      ],
      "source": [
        "missing_rx_otc_row"
      ]
    },
    {
      "cell_type": "code",
      "execution_count": null,
      "metadata": {
        "id": "NyQBMzhXsRDT"
      },
      "outputs": [],
      "source": [
        "data['rx_otc'] = data['rx_otc'].fillna('Rx')\n"
      ]
    },
    {
      "cell_type": "code",
      "execution_count": null,
      "metadata": {
        "id": "i7efEV4RsRDT"
      },
      "outputs": [],
      "source": [
        "# Calculate the number of side effects for each drug\n",
        "data['num_side_effects'] = data['side_effects'].apply(len)\n",
        "\n",
        "# Calculate correlations of num_side_effects with activity and rating\n",
        "correlation_with_activity = data['num_side_effects'].corr(data['activity'])\n",
        "correlation_with_rating = data['num_side_effects'].corr(data['rating'])\n",
        "\n",
        "correlation_with_activity, correlation_with_rating\n",
        "\n",
        "\n",
        "X = data[['num_side_effects', 'activity', 'csa']]\n",
        "X = pd.get_dummies(X, columns=['csa'], drop_first=True)\n",
        "y = data['rating']\n",
        "\n",
        "X_train, X_test, y_train, y_test = train_test_split(X, y, test_size=0.2, random_state=0)\n",
        "\n",
        "dt_model = DecisionTreeRegressor(max_depth=4, random_state=0)\n",
        "dt_model.fit(X_train, y_train)\n",
        "\n",
        "\n",
        "y_pred = dt_model.predict(X_test)\n",
        "mse = mean_squared_error(y_test, y_pred)\n",
        "r2 = r2_score(y_test, y_pred)\n",
        "print(f'MSE: {mse}, R^2: {r2}')\n",
        "\n",
        "from sklearn import tree\n",
        "import matplotlib.pyplot as plt\n",
        "\n",
        "plt.figure(figsize=(35, 20), dpi=100)\n",
        "\n",
        "tree.plot_tree(dt_model, filled=True,\n",
        "               feature_names=X.columns,\n",
        "               class_names=True,\n",
        "               proportion=False,\n",
        "               rounded=True,\n",
        "               fontsize=10)\n",
        "plt.savefig('decision_tree_high_res.png', format='png', bbox_inches='tight', dpi=300)\n",
        "\n",
        "plt.show()"
      ]
    },
    {
      "cell_type": "code",
      "execution_count": null,
      "metadata": {
        "id": "9tnfSDphsRDT",
        "outputId": "45e3adf6-1ab5-4ea9-9b89-b4470d305e42"
      },
      "outputs": [
        {
          "data": {
            "text/html": [
              "<div>\n",
              "<style scoped>\n",
              "    .dataframe tbody tr th:only-of-type {\n",
              "        vertical-align: middle;\n",
              "    }\n",
              "\n",
              "    .dataframe tbody tr th {\n",
              "        vertical-align: top;\n",
              "    }\n",
              "\n",
              "    .dataframe thead th {\n",
              "        text-align: right;\n",
              "    }\n",
              "</style>\n",
              "<table border=\"1\" class=\"dataframe\">\n",
              "  <thead>\n",
              "    <tr style=\"text-align: right;\">\n",
              "      <th></th>\n",
              "      <th>drug_name</th>\n",
              "      <th>medical_condition</th>\n",
              "      <th>side_effects</th>\n",
              "      <th>generic_name</th>\n",
              "      <th>drug_classes</th>\n",
              "      <th>brand_names</th>\n",
              "      <th>activity</th>\n",
              "      <th>rx_otc</th>\n",
              "      <th>pregnancy_category</th>\n",
              "      <th>csa</th>\n",
              "      <th>alcohol</th>\n",
              "      <th>related_drugs</th>\n",
              "      <th>rating</th>\n",
              "      <th>no_of_reviews</th>\n",
              "    </tr>\n",
              "  </thead>\n",
              "  <tbody>\n",
              "    <tr>\n",
              "      <th>0</th>\n",
              "      <td>doxycycline</td>\n",
              "      <td>Acne</td>\n",
              "      <td>[['(hives, difficult breathing, swelling in yo...</td>\n",
              "      <td>doxycycline</td>\n",
              "      <td>Miscellaneous antimalarials, Tetracyclines</td>\n",
              "      <td>Acticlate, Adoxa CK, Adoxa Pak, Adoxa TT, Alod...</td>\n",
              "      <td>87.0</td>\n",
              "      <td>Rx</td>\n",
              "      <td>D</td>\n",
              "      <td>N</td>\n",
              "      <td>X</td>\n",
              "      <td>amoxicillin: https://www.drugs.com/amoxicillin...</td>\n",
              "      <td>6.8</td>\n",
              "      <td>760.0</td>\n",
              "    </tr>\n",
              "    <tr>\n",
              "      <th>1</th>\n",
              "      <td>spironolactone</td>\n",
              "      <td>Acne</td>\n",
              "      <td>[['hives ', ' difficulty breathing', ' swellin...</td>\n",
              "      <td>spironolactone</td>\n",
              "      <td>Aldosterone receptor antagonists, Potassium-sp...</td>\n",
              "      <td>Aldactone, CaroSpir</td>\n",
              "      <td>82.0</td>\n",
              "      <td>Rx</td>\n",
              "      <td>C</td>\n",
              "      <td>N</td>\n",
              "      <td>X</td>\n",
              "      <td>amlodipine: https://www.drugs.com/amlodipine.h...</td>\n",
              "      <td>7.2</td>\n",
              "      <td>449.0</td>\n",
              "    </tr>\n",
              "    <tr>\n",
              "      <th>2</th>\n",
              "      <td>minocycline</td>\n",
              "      <td>Acne</td>\n",
              "      <td>[['skin rash, fever, swollen glands, flu-like ...</td>\n",
              "      <td>minocycline</td>\n",
              "      <td>Tetracyclines</td>\n",
              "      <td>Dynacin, Minocin, Minolira, Solodyn, Ximino, V...</td>\n",
              "      <td>48.0</td>\n",
              "      <td>Rx</td>\n",
              "      <td>D</td>\n",
              "      <td>N</td>\n",
              "      <td>No information</td>\n",
              "      <td>amoxicillin: https://www.drugs.com/amoxicillin...</td>\n",
              "      <td>5.7</td>\n",
              "      <td>482.0</td>\n",
              "    </tr>\n",
              "    <tr>\n",
              "      <th>3</th>\n",
              "      <td>Accutane</td>\n",
              "      <td>Acne</td>\n",
              "      <td>[['problems with your vision or hearing', ' mu...</td>\n",
              "      <td>isotretinoin (oral)</td>\n",
              "      <td>Miscellaneous antineoplastics, Miscellaneous u...</td>\n",
              "      <td>No brand names listed</td>\n",
              "      <td>41.0</td>\n",
              "      <td>Rx</td>\n",
              "      <td>X</td>\n",
              "      <td>N</td>\n",
              "      <td>X</td>\n",
              "      <td>doxycycline: https://www.drugs.com/doxycycline...</td>\n",
              "      <td>7.9</td>\n",
              "      <td>623.0</td>\n",
              "    </tr>\n",
              "    <tr>\n",
              "      <th>4</th>\n",
              "      <td>clindamycin</td>\n",
              "      <td>Acne</td>\n",
              "      <td>[['hives ', ' difficult breathing', ' swelling...</td>\n",
              "      <td>clindamycin topical</td>\n",
              "      <td>Topical acne agents, Vaginal anti-infectives</td>\n",
              "      <td>Cleocin T, Clindacin ETZ, Clindacin P, Clindag...</td>\n",
              "      <td>39.0</td>\n",
              "      <td>Rx</td>\n",
              "      <td>B</td>\n",
              "      <td>N</td>\n",
              "      <td>No information</td>\n",
              "      <td>doxycycline: https://www.drugs.com/doxycycline...</td>\n",
              "      <td>7.4</td>\n",
              "      <td>146.0</td>\n",
              "    </tr>\n",
              "  </tbody>\n",
              "</table>\n",
              "</div>"
            ],
            "text/plain": [
              "        drug_name medical_condition  \\\n",
              "0     doxycycline              Acne   \n",
              "1  spironolactone              Acne   \n",
              "2     minocycline              Acne   \n",
              "3        Accutane              Acne   \n",
              "4     clindamycin              Acne   \n",
              "\n",
              "                                        side_effects         generic_name  \\\n",
              "0  [['(hives, difficult breathing, swelling in yo...          doxycycline   \n",
              "1  [['hives ', ' difficulty breathing', ' swellin...       spironolactone   \n",
              "2  [['skin rash, fever, swollen glands, flu-like ...          minocycline   \n",
              "3  [['problems with your vision or hearing', ' mu...  isotretinoin (oral)   \n",
              "4  [['hives ', ' difficult breathing', ' swelling...  clindamycin topical   \n",
              "\n",
              "                                        drug_classes  \\\n",
              "0         Miscellaneous antimalarials, Tetracyclines   \n",
              "1  Aldosterone receptor antagonists, Potassium-sp...   \n",
              "2                                      Tetracyclines   \n",
              "3  Miscellaneous antineoplastics, Miscellaneous u...   \n",
              "4       Topical acne agents, Vaginal anti-infectives   \n",
              "\n",
              "                                         brand_names  activity rx_otc  \\\n",
              "0  Acticlate, Adoxa CK, Adoxa Pak, Adoxa TT, Alod...      87.0     Rx   \n",
              "1                                Aldactone, CaroSpir      82.0     Rx   \n",
              "2  Dynacin, Minocin, Minolira, Solodyn, Ximino, V...      48.0     Rx   \n",
              "3                              No brand names listed      41.0     Rx   \n",
              "4  Cleocin T, Clindacin ETZ, Clindacin P, Clindag...      39.0     Rx   \n",
              "\n",
              "  pregnancy_category csa         alcohol  \\\n",
              "0                  D   N               X   \n",
              "1                  C   N               X   \n",
              "2                  D   N  No information   \n",
              "3                  X   N               X   \n",
              "4                  B   N  No information   \n",
              "\n",
              "                                       related_drugs  rating  no_of_reviews  \n",
              "0  amoxicillin: https://www.drugs.com/amoxicillin...     6.8          760.0  \n",
              "1  amlodipine: https://www.drugs.com/amlodipine.h...     7.2          449.0  \n",
              "2  amoxicillin: https://www.drugs.com/amoxicillin...     5.7          482.0  \n",
              "3  doxycycline: https://www.drugs.com/doxycycline...     7.9          623.0  \n",
              "4  doxycycline: https://www.drugs.com/doxycycline...     7.4          146.0  "
            ]
          },
          "execution_count": 15,
          "metadata": {},
          "output_type": "execute_result"
        }
      ],
      "source": [
        "data.head()"
      ]
    },
    {
      "cell_type": "code",
      "execution_count": null,
      "metadata": {
        "id": "Fzr3mryksRDT"
      },
      "outputs": [],
      "source": []
    }
  ],
  "metadata": {
    "kernelspec": {
      "display_name": "Python 3 (ipykernel)",
      "language": "python",
      "name": "python3"
    },
    "language_info": {
      "codemirror_mode": {
        "name": "ipython",
        "version": 3
      },
      "file_extension": ".py",
      "mimetype": "text/x-python",
      "name": "python",
      "nbconvert_exporter": "python",
      "pygments_lexer": "ipython3",
      "version": "3.11.5"
    },
    "colab": {
      "provenance": []
    }
  },
  "nbformat": 4,
  "nbformat_minor": 0
}